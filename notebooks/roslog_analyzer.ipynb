{
 "cells": [
  {
   "cell_type": "markdown",
   "metadata": {},
   "source": [
    "# Notebook for analysing roslogs\n",
    "\n",
    "This notebook analyses the roslog file created which is populated by the rospy.loginfo and rospy.logdebug messages from the algorithm. Point the exp_dir to the root of the experiment directory you want to analyze:\n",
    "\n",
    "```\n",
    "exp_dir/\n",
    "├── progress.csv\n",
    "├── debug.log\n",
    "├── variant.json\n",
    "├── itr_1.pkl\n",
    "├── itr_2.pkl\n",
    ".   .   ...\n",
    ".   .   ...\n",
    ".   .   ...\n",
    "└── roslog/\n",
    "    ├── diayn_env_node_*.log\n",
    "    └── */\n",
    "\n",
    "```"
   ]
  },
  {
   "cell_type": "code",
   "execution_count": 1,
   "metadata": {},
   "outputs": [],
   "source": [
    "%matplotlib inline\n",
    "\n",
    "import os\n",
    "import json\n",
    "import numpy as np\n",
    "from parse import parse\n",
    "import matplotlib.pyplot as plt\n",
    "from collections import OrderedDict"
   ]
  },
  {
   "cell_type": "code",
   "execution_count": 2,
   "metadata": {},
   "outputs": [],
   "source": [
    "exp_dir = '/localdata2/nikhil/seed_1__snapshot_mode_all__num_skills_10__4fins/'\n",
    "roslog_dir = 'roslog'\n",
    "roslog_fileprefix = 'diayn_env_node_'\n",
    "epoch_filter = []"
   ]
  },
  {
   "cell_type": "code",
   "execution_count": 3,
   "metadata": {},
   "outputs": [
    {
     "name": "stdout",
     "output_type": "stream",
     "text": [
      "/localdata2/nikhil/seed_1__snapshot_mode_all__num_skills_10__4fins/roslog/diayn_env_node_10231_1524525093018.log\n"
     ]
    }
   ],
   "source": [
    "filepath = None\n",
    "for dir_item in os.listdir(os.path.join(exp_dir, roslog_dir)):\n",
    "    if dir_item.startswith(roslog_fileprefix):\n",
    "        filepath = os.path.join(exp_dir, roslog_dir, dir_item)\n",
    "print(filepath)"
   ]
  },
  {
   "cell_type": "code",
   "execution_count": 4,
   "metadata": {},
   "outputs": [],
   "source": [
    "step_return_labels = None\n",
    "step_return_dict = None\n",
    "step_epoch = []\n",
    "\n",
    "if not os.path.exists(filepath):\n",
    "    print('ERROR: File {} not exist'.format(filepath))\n",
    "else:\n",
    "    with open(filepath) as fd:\n",
    "        for line_num, line in enumerate(fd):\n",
    "            \n",
    "            if '[INFO]' in line:\n",
    "                if 'Epoch #:' and 'Iteration #:' in line:\n",
    "                    _, epoch, itr = parse('{}: Epoch #: {}, Iteration #: {}', line)\n",
    "                    epoch = int(epoch)\n",
    "                    itr = int(itr)\n",
    "                    \n",
    "            if epoch_filter == [] or epoch in epoch_filter:\n",
    "                if '[DEBUG]' in line:\n",
    "                    if 'reward' in line:\n",
    "\n",
    "                        _, step_return = parse('{}: {}', line)\n",
    "                        step_return = json.loads(step_return)\n",
    "\n",
    "                        if step_return_labels == None:\n",
    "                            step_return_labels = step_return.keys()\n",
    "                            step_return_labels.sort()\n",
    "                            step_return_dict = OrderedDict([(kk, []) for kk in step_return_labels])\n",
    "\n",
    "                        for kk in step_return.keys():\n",
    "                            step_return_dict[kk].append(step_return[kk])\n",
    "\n",
    "                        step_epoch.append(epoch)\n",
    "\n",
    "\n",
    "#             if line_num == 500: break"
   ]
  },
  {
   "cell_type": "code",
   "execution_count": null,
   "metadata": {
    "scrolled": true
   },
   "outputs": [],
   "source": [
    "n_plots = len(step_return_labels)\n",
    "\n",
    "fig_cols = 2\n",
    "fig_rows = (n_plots / 2) + (n_plots % fig_cols)\n",
    "\n",
    "n_xticks = 10\n",
    "xtick_diff = len(step_epoch)/n_xticks\n",
    "xticks = [step_epoch[ii] for ii in range(len(step_epoch)) if ii%xtick_diff==0]\n",
    "xtick_locs = [ii for ii in range(len(step_epoch)) if ii%xtick_diff==0]\n",
    "\n",
    "fig, ax = plt.subplots(fig_rows, fig_cols, figsize=(16, 100))\n",
    "\n",
    "for col_idx, col in enumerate(step_return_dict.keys()):    \n",
    "    ax_row = col_idx/fig_cols\n",
    "    ax_col = col_idx%fig_cols\n",
    "    ax[ax_row, ax_col].plot(step_return_dict[col])\n",
    "    \n",
    "for col_idx, col in enumerate(step_return_dict.keys()):\n",
    "    ax_row = col_idx/fig_cols\n",
    "    ax_col = col_idx%fig_cols\n",
    "    ax[ax_row, ax_col].set_title(col)\n",
    "    plt.sca(ax[ax_row, ax_col])\n",
    "    plt.xticks(xtick_locs, xticks)"
   ]
  }
 ],
 "metadata": {
  "kernelspec": {
   "display_name": "Python 2",
   "language": "python",
   "name": "python2"
  },
  "language_info": {
   "codemirror_mode": {
    "name": "ipython",
    "version": 2
   },
   "file_extension": ".py",
   "mimetype": "text/x-python",
   "name": "python",
   "nbconvert_exporter": "python",
   "pygments_lexer": "ipython2",
   "version": "2.7.13"
  },
  "widgets": {
   "state": {},
   "version": "1.1.2"
  }
 },
 "nbformat": 4,
 "nbformat_minor": 2
}
