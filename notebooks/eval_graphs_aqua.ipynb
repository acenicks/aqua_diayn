{
 "cells": [
  {
   "cell_type": "markdown",
   "metadata": {},
   "source": [
    "# Notebook for analysing the learning curves\n",
    "\n",
    "This notebook plots the basic leaning curves of the diayn algorithm provided in the progress.csv file generated from the experiment. log_dir should be pointed at the folder containing the experiment directories:\n",
    "\n",
    "```\n",
    "log_dir/\n",
    "└── exp_1\n",
    "|   ├── progress.csv\n",
    "|   ├── itr_1.pkl\n",
    "|   ├── itr_2.pkl\n",
    ".   .   ...\n",
    ".   .   ...\n",
    ".   .   ...\n",
    "└── exp_2\n",
    "|   ├── progress.csv\n",
    "|   ├── itr_1.pkl\n",
    "|   ├── itr_2.pkl\n",
    "\n",
    "```\n",
    "\n",
    "and use variant_dir_prefix and variant_dir_postfix for filtering the exp_dirs you want to plot."
   ]
  },
  {
   "cell_type": "code",
   "execution_count": null,
   "metadata": {},
   "outputs": [],
   "source": [
    "% matplotlib inline\n",
    "\n",
    "import os\n",
    "import numpy as np\n",
    "import pandas as pd\n",
    "import matplotlib.pyplot as plt"
   ]
  },
  {
   "cell_type": "code",
   "execution_count": null,
   "metadata": {},
   "outputs": [],
   "source": [
    "log_dir = '/localdata2/nikhil/data/comp767project/diversity_learning/2_fins/'\n",
    "variant_dir_prefix = 'seed_1'\n",
    "variant_dir_postfix = ''"
   ]
  },
  {
   "cell_type": "code",
   "execution_count": null,
   "metadata": {},
   "outputs": [],
   "source": [
    "# ! ls $log_dir | grep $variant_dir_prefix"
   ]
  },
  {
   "cell_type": "code",
   "execution_count": null,
   "metadata": {},
   "outputs": [],
   "source": [
    "for dir_item in os.listdir(log_dir):\n",
    "    if os.path.isdir(os.path.join(log_dir, dir_item))\\\n",
    "    and dir_item.startswith(variant_dir_prefix)\\\n",
    "    and dir_item.endswith(variant_dir_postfix):\n",
    "\n",
    "        temp_dir = os.path.join(log_dir, dir_item)\n",
    "        progress_data = pd.read_csv(os.path.join(temp_dir, 'progress.csv'))\n",
    "\n",
    "        n_key = len(progress_data.keys())\n",
    "        n_cols = 2\n",
    "        n_rows = n_key/n_cols\n",
    "\n",
    "print(temp_dir)\n",
    "print(n_rows, n_cols)"
   ]
  },
  {
   "cell_type": "code",
   "execution_count": null,
   "metadata": {
    "scrolled": true
   },
   "outputs": [],
   "source": [
    "f, ax = plt.subplots(n_rows, n_cols,figsize=(16, 200))\n",
    "\n",
    "for dir_item in os.listdir(log_dir):\n",
    "    if os.path.isdir(os.path.join(log_dir, dir_item)) and dir_item.startswith(variant_dir_prefix):\n",
    "        \n",
    "        plot_label = dir_item\n",
    "        dir_item = os.path.join(log_dir, dir_item)\n",
    "\n",
    "        progress_data = pd.read_csv(os.path.join(dir_item, 'progress.csv'))\n",
    "\n",
    "        for key_idx, key in enumerate(progress_data.keys()):\n",
    "            ax_row = key_idx/n_cols\n",
    "            ax_col = key_idx%n_cols\n",
    "\n",
    "            ax[ax_row, ax_col].plot(progress_data[key], label=plot_label)\n",
    "            ax[ax_row, ax_col].set_title(str(key))\n",
    "            ax[ax_row, ax_col].legend()"
   ]
  }
 ],
 "metadata": {
  "kernelspec": {
   "display_name": "Python 2",
   "language": "python",
   "name": "python2"
  },
  "language_info": {
   "codemirror_mode": {
    "name": "ipython",
    "version": 2
   },
   "file_extension": ".py",
   "mimetype": "text/x-python",
   "name": "python",
   "nbconvert_exporter": "python",
   "pygments_lexer": "ipython2",
   "version": "2.7.13"
  },
  "widgets": {
   "state": {},
   "version": "1.1.2"
  }
 },
 "nbformat": 4,
 "nbformat_minor": 2
}
